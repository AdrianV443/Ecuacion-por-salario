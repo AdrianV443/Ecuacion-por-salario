{
 "cells": [
  {
   "cell_type": "code",
   "execution_count": 1,
   "id": "1c42c6df",
   "metadata": {},
   "outputs": [],
   "source": [
    "import pandas as pd\n",
    "import matplotlib.pyplot as plt\n",
    "import numpy as np\n",
    "import seaborn as sns\n",
    "import statsmodels.api as sm\n",
    "\n",
    "%matplotlib inline"
   ]
  },
  {
   "cell_type": "code",
   "execution_count": 2,
   "id": "83d23647",
   "metadata": {},
   "outputs": [
    {
     "name": "stdout",
     "output_type": "stream",
     "text": [
      "<class 'pandas.core.frame.DataFrame'>\n",
      "RangeIndex: 526 entries, 0 to 525\n",
      "Data columns (total 24 columns):\n",
      " #   Column    Non-Null Count  Dtype  \n",
      "---  ------    --------------  -----  \n",
      " 0   wage      526 non-null    float64\n",
      " 1   educ      526 non-null    int64  \n",
      " 2   exper     526 non-null    int64  \n",
      " 3   tenure    526 non-null    int64  \n",
      " 4   nonwhite  526 non-null    int64  \n",
      " 5   female    526 non-null    int64  \n",
      " 6   married   526 non-null    int64  \n",
      " 7   numdep    526 non-null    int64  \n",
      " 8   smsa      526 non-null    int64  \n",
      " 9   northcen  526 non-null    int64  \n",
      " 10  south     526 non-null    int64  \n",
      " 11  west      526 non-null    int64  \n",
      " 12  construc  526 non-null    int64  \n",
      " 13  ndurman   526 non-null    int64  \n",
      " 14  trcommpu  526 non-null    int64  \n",
      " 15  trade     526 non-null    int64  \n",
      " 16  services  526 non-null    int64  \n",
      " 17  profserv  526 non-null    int64  \n",
      " 18  profocc   526 non-null    int64  \n",
      " 19  clerocc   526 non-null    int64  \n",
      " 20  servocc   526 non-null    int64  \n",
      " 21  lwage     526 non-null    float64\n",
      " 22  expersq   526 non-null    int64  \n",
      " 23  tenursq   526 non-null    int64  \n",
      "dtypes: float64(2), int64(22)\n",
      "memory usage: 98.8 KB\n"
     ]
    }
   ],
   "source": [
    "wage1 = pd.read_excel('wage1.xls')\n",
    "wage1.info()"
   ]
  },
  {
   "cell_type": "code",
   "execution_count": 3,
   "id": "2fa2bc14",
   "metadata": {},
   "outputs": [
    {
     "data": {
      "text/plain": [
       "wage        0\n",
       "educ        0\n",
       "exper       0\n",
       "tenure      0\n",
       "nonwhite    0\n",
       "female      0\n",
       "married     0\n",
       "numdep      0\n",
       "smsa        0\n",
       "northcen    0\n",
       "south       0\n",
       "west        0\n",
       "construc    0\n",
       "ndurman     0\n",
       "trcommpu    0\n",
       "trade       0\n",
       "services    0\n",
       "profserv    0\n",
       "profocc     0\n",
       "clerocc     0\n",
       "servocc     0\n",
       "lwage       0\n",
       "expersq     0\n",
       "tenursq     0\n",
       "dtype: int64"
      ]
     },
     "execution_count": 3,
     "metadata": {},
     "output_type": "execute_result"
    }
   ],
   "source": [
    "wage1.isna().sum()"
   ]
  },
  {
   "cell_type": "code",
   "execution_count": 4,
   "id": "d786c2b4",
   "metadata": {},
   "outputs": [],
   "source": [
    "wage1['lwage'] = np.log(wage1['wage'])\n",
    "wage_final = wage1[['wage','educ','exper','tenure','married','lwage']]"
   ]
  },
  {
   "cell_type": "code",
   "execution_count": 5,
   "id": "4e073e21",
   "metadata": {},
   "outputs": [
    {
     "data": {
      "text/plain": [
       "(array([  1.,   0.,   5.,  14., 151., 133., 109.,  71.,  27.,  15.]),\n",
       " array([-0.63487827, -0.24958289,  0.13571248,  0.52100786,  0.90630324,\n",
       "         1.29159862,  1.67689399,  2.06218937,  2.44748475,  2.83278013,\n",
       "         3.2180755 ]),\n",
       " <BarContainer object of 10 artists>)"
      ]
     },
     "execution_count": 5,
     "metadata": {},
     "output_type": "execute_result"
    },
    {
     "data": {
      "image/png": "[encoded data removed]",
      "text/plain": [
       "<Figure size 432x288 with 1 Axes>"
      ]
     },
     "metadata": {
      "needs_background": "light"
     },
     "output_type": "display_data"
    }
   ],
   "source": [
    "plt.hist(wage_final['lwage'])"
   ]
  },
  {
   "cell_type": "code",
   "execution_count": 6,
   "id": "915e78e4-be59-4218-9906-01ec5d84c7b7",
   "metadata": {},
   "outputs": [
    {
     "data": {
      "text/html": [
       "<div>\n",
       "<style scoped>\n",
       "    .dataframe tbody tr th:only-of-type {\n",
       "        vertical-align: middle;\n",
       "    }\n",
       "\n",
       "    .dataframe tbody tr th {\n",
       "        vertical-align: top;\n",
       "    }\n",
       "\n",
       "    .dataframe thead th {\n",
       "        text-align: right;\n",
       "    }\n",
       "</style>\n",
       "<table border=\"1\" class=\"dataframe\">\n",
       "  <thead>\n",
       "    <tr style=\"text-align: right;\">\n",
       "      <th></th>\n",
       "      <th>wage</th>\n",
       "      <th>educ</th>\n",
       "      <th>exper</th>\n",
       "      <th>tenure</th>\n",
       "      <th>married</th>\n",
       "      <th>lwage</th>\n",
       "    </tr>\n",
       "  </thead>\n",
       "  <tbody>\n",
       "    <tr>\n",
       "      <th>count</th>\n",
       "      <td>526.000000</td>\n",
       "      <td>526.000000</td>\n",
       "      <td>526.00000</td>\n",
       "      <td>526.000000</td>\n",
       "      <td>526.000000</td>\n",
       "      <td>526.000000</td>\n",
       "    </tr>\n",
       "    <tr>\n",
       "      <th>mean</th>\n",
       "      <td>5.896103</td>\n",
       "      <td>12.562738</td>\n",
       "      <td>17.01711</td>\n",
       "      <td>5.104563</td>\n",
       "      <td>0.608365</td>\n",
       "      <td>1.623268</td>\n",
       "    </tr>\n",
       "    <tr>\n",
       "      <th>std</th>\n",
       "      <td>3.693086</td>\n",
       "      <td>2.769022</td>\n",
       "      <td>13.57216</td>\n",
       "      <td>7.224462</td>\n",
       "      <td>0.488580</td>\n",
       "      <td>0.531538</td>\n",
       "    </tr>\n",
       "    <tr>\n",
       "      <th>min</th>\n",
       "      <td>0.530000</td>\n",
       "      <td>0.000000</td>\n",
       "      <td>1.00000</td>\n",
       "      <td>0.000000</td>\n",
       "      <td>0.000000</td>\n",
       "      <td>-0.634878</td>\n",
       "    </tr>\n",
       "    <tr>\n",
       "      <th>25%</th>\n",
       "      <td>3.330000</td>\n",
       "      <td>12.000000</td>\n",
       "      <td>5.00000</td>\n",
       "      <td>0.000000</td>\n",
       "      <td>0.000000</td>\n",
       "      <td>1.202972</td>\n",
       "    </tr>\n",
       "    <tr>\n",
       "      <th>50%</th>\n",
       "      <td>4.650000</td>\n",
       "      <td>12.000000</td>\n",
       "      <td>13.50000</td>\n",
       "      <td>2.000000</td>\n",
       "      <td>1.000000</td>\n",
       "      <td>1.536867</td>\n",
       "    </tr>\n",
       "    <tr>\n",
       "      <th>75%</th>\n",
       "      <td>6.880000</td>\n",
       "      <td>14.000000</td>\n",
       "      <td>26.00000</td>\n",
       "      <td>7.000000</td>\n",
       "      <td>1.000000</td>\n",
       "      <td>1.928619</td>\n",
       "    </tr>\n",
       "    <tr>\n",
       "      <th>max</th>\n",
       "      <td>24.980000</td>\n",
       "      <td>18.000000</td>\n",
       "      <td>51.00000</td>\n",
       "      <td>44.000000</td>\n",
       "      <td>1.000000</td>\n",
       "      <td>3.218076</td>\n",
       "    </tr>\n",
       "  </tbody>\n",
       "</table>\n",
       "</div>"
      ],
      "text/plain": [
       "             wage        educ      exper      tenure     married       lwage\n",
       "count  526.000000  526.000000  526.00000  526.000000  526.000000  526.000000\n",
       "mean     5.896103   12.562738   17.01711    5.104563    0.608365    1.623268\n",
       "std      3.693086    2.769022   13.57216    7.224462    0.488580    0.531538\n",
       "min      0.530000    0.000000    1.00000    0.000000    0.000000   -0.634878\n",
       "25%      3.330000   12.000000    5.00000    0.000000    0.000000    1.202972\n",
       "50%      4.650000   12.000000   13.50000    2.000000    1.000000    1.536867\n",
       "75%      6.880000   14.000000   26.00000    7.000000    1.000000    1.928619\n",
       "max     24.980000   18.000000   51.00000   44.000000    1.000000    3.218076"
      ]
     },
     "execution_count": 6,
     "metadata": {},
     "output_type": "execute_result"
    }
   ],
   "source": [
    "wage_final.describe()"
   ]
  },
  {
   "cell_type": "code",
   "execution_count": 7,
   "id": "69c0d0ec",
   "metadata": {},
   "outputs": [
    {
     "data": {
      "text/plain": [
       "<AxesSubplot:>"
      ]
     },
     "execution_count": 7,
     "metadata": {},
     "output_type": "execute_result"
    },
    {
     "data": {
      "image/png": "[encoded data removed]",
      "text/plain": [
       "<Figure size 720x576 with 2 Axes>"
      ]
     },
     "metadata": {
      "needs_background": "light"
     },
     "output_type": "display_data"
    }
   ],
   "source": [
    "plt.figure(figsize=(10, 8))\n",
    "sns.heatmap(wage_final.corr(), annot=True)"
   ]
  },
  {
   "cell_type": "code",
   "execution_count": 8,
   "id": "b4f7d406-8a18-4f62-9a60-974bd11120f1",
   "metadata": {},
   "outputs": [],
   "source": [
    "x1 = wage_final[['educ','exper','tenure','married']]\n",
    "y = wage_final['lwage']"
   ]
  },
  {
   "cell_type": "code",
   "execution_count": 9,
   "id": "939688bf-4f49-4273-b328-ef2e80e7f6c1",
   "metadata": {},
   "outputs": [
    {
     "data": {
      "text/html": [
       "<table class=\"simpletable\">\n",
       "<caption>OLS Regression Results</caption>\n",
       "<tr>\n",
       "  <th>Dep. Variable:</th>          <td>lwage</td>      <th>  R-squared:         </th> <td>   0.336</td>\n",
       "</tr>\n",
       "<tr>\n",
       "  <th>Model:</th>                   <td>OLS</td>       <th>  Adj. R-squared:    </th> <td>   0.331</td>\n",
       "</tr>\n",
       "<tr>\n",
       "  <th>Method:</th>             <td>Least Squares</td>  <th>  F-statistic:       </th> <td>   65.99</td>\n",
       "</tr>\n",
       "<tr>\n",
       "  <th>Date:</th>             <td>Thu, 21 Oct 2021</td> <th>  Prob (F-statistic):</th> <td>3.76e-45</td>\n",
       "</tr>\n",
       "<tr>\n",
       "  <th>Time:</th>                 <td>03:53:59</td>     <th>  Log-Likelihood:    </th> <td> -305.64</td>\n",
       "</tr>\n",
       "<tr>\n",
       "  <th>No. Observations:</th>      <td>   526</td>      <th>  AIC:               </th> <td>   621.3</td>\n",
       "</tr>\n",
       "<tr>\n",
       "  <th>Df Residuals:</th>          <td>   521</td>      <th>  BIC:               </th> <td>   642.6</td>\n",
       "</tr>\n",
       "<tr>\n",
       "  <th>Df Model:</th>              <td>     4</td>      <th>                     </th>     <td> </td>   \n",
       "</tr>\n",
       "<tr>\n",
       "  <th>Covariance Type:</th>      <td>nonrobust</td>    <th>                     </th>     <td> </td>   \n",
       "</tr>\n",
       "</table>\n",
       "<table class=\"simpletable\">\n",
       "<tr>\n",
       "     <td></td>        <th>coef</th>     <th>std err</th>      <th>t</th>      <th>P>|t|</th>  <th>[0.025</th>    <th>0.975]</th>  \n",
       "</tr>\n",
       "<tr>\n",
       "  <th>const</th>   <td>    0.2843</td> <td>    0.103</td> <td>    2.767</td> <td> 0.006</td> <td>    0.082</td> <td>    0.486</td>\n",
       "</tr>\n",
       "<tr>\n",
       "  <th>educ</th>    <td>    0.0870</td> <td>    0.007</td> <td>   11.859</td> <td> 0.000</td> <td>    0.073</td> <td>    0.101</td>\n",
       "</tr>\n",
       "<tr>\n",
       "  <th>exper</th>   <td>    0.0022</td> <td>    0.002</td> <td>    1.230</td> <td> 0.219</td> <td>   -0.001</td> <td>    0.006</td>\n",
       "</tr>\n",
       "<tr>\n",
       "  <th>tenure</th>  <td>    0.0211</td> <td>    0.003</td> <td>    6.889</td> <td> 0.000</td> <td>    0.015</td> <td>    0.027</td>\n",
       "</tr>\n",
       "<tr>\n",
       "  <th>married</th> <td>    0.1666</td> <td>    0.042</td> <td>    3.988</td> <td> 0.000</td> <td>    0.085</td> <td>    0.249</td>\n",
       "</tr>\n",
       "</table>\n",
       "<table class=\"simpletable\">\n",
       "<tr>\n",
       "  <th>Omnibus:</th>       <td>11.084</td> <th>  Durbin-Watson:     </th> <td>   1.794</td>\n",
       "</tr>\n",
       "<tr>\n",
       "  <th>Prob(Omnibus):</th> <td> 0.004</td> <th>  Jarque-Bera (JB):  </th> <td>  19.547</td>\n",
       "</tr>\n",
       "<tr>\n",
       "  <th>Skew:</th>          <td> 0.042</td> <th>  Prob(JB):          </th> <td>5.69e-05</td>\n",
       "</tr>\n",
       "<tr>\n",
       "  <th>Kurtosis:</th>      <td> 3.941</td> <th>  Cond. No.          </th> <td>    135.</td>\n",
       "</tr>\n",
       "</table><br/><br/>Notes:<br/>[1] Standard Errors assume that the covariance matrix of the errors is correctly specified."
      ],
      "text/plain": [
       "<class 'statsmodels.iolib.summary.Summary'>\n",
       "\"\"\"\n",
       "                            OLS Regression Results                            \n",
       "==============================================================================\n",
       "Dep. Variable:                  lwage   R-squared:                       0.336\n",
       "Model:                            OLS   Adj. R-squared:                  0.331\n",
       "Method:                 Least Squares   F-statistic:                     65.99\n",
       "Date:                Thu, 21 Oct 2021   Prob (F-statistic):           3.76e-45\n",
       "Time:                        03:53:59   Log-Likelihood:                -305.64\n",
       "No. Observations:                 526   AIC:                             621.3\n",
       "Df Residuals:                     521   BIC:                             642.6\n",
       "Df Model:                           4                                         \n",
       "Covariance Type:            nonrobust                                         \n",
       "==============================================================================\n",
       "                 coef    std err          t      P>|t|      [0.025      0.975]\n",
       "------------------------------------------------------------------------------\n",
       "const          0.2843      0.103      2.767      0.006       0.082       0.486\n",
       "educ           0.0870      0.007     11.859      0.000       0.073       0.101\n",
       "exper          0.0022      0.002      1.230      0.219      -0.001       0.006\n",
       "tenure         0.0211      0.003      6.889      0.000       0.015       0.027\n",
       "married        0.1666      0.042      3.988      0.000       0.085       0.249\n",
       "==============================================================================\n",
       "Omnibus:                       11.084   Durbin-Watson:                   1.794\n",
       "Prob(Omnibus):                  0.004   Jarque-Bera (JB):               19.547\n",
       "Skew:                           0.042   Prob(JB):                     5.69e-05\n",
       "Kurtosis:                       3.941   Cond. No.                         135.\n",
       "==============================================================================\n",
       "\n",
       "Notes:\n",
       "[1] Standard Errors assume that the covariance matrix of the errors is correctly specified.\n",
       "\"\"\""
      ]
     },
     "execution_count": 9,
     "metadata": {},
     "output_type": "execute_result"
    }
   ],
   "source": [
    "# Convertimos a x1 (el conjunto de variables) en una constante llamada x\n",
    "x = sm.add_constant(x1)\n",
    "# Ajustamos el modelo\n",
    "resultado=sm.OLS(y,x).fit()\n",
    "# Obtenemos un resumen del modelo\n",
    "resultado.summary()"
   ]
  },
  {
   "cell_type": "markdown",
   "id": "b47f23f0-f81d-4e1b-b3bf-d586dc602623",
   "metadata": {},
   "source": [
    "salario_hat = 0.2843 + 0.0870(educ) + 0.0022(exper) + 0.0211(tenure) + 0.1666(married)"
   ]
  },
  {
   "cell_type": "code",
   "execution_count": 31,
   "id": "0ab088f1-0784-4378-8ac9-2a8f04f2fa23",
   "metadata": {},
   "outputs": [
    {
     "data": {
      "text/plain": [
       "Text(0, 0.5, 'Log(Salario)')"
      ]
     },
     "execution_count": 31,
     "metadata": {},
     "output_type": "execute_result"
    },
    {
     "data": {
      "image/png": "[encoded data removed]",
      "text/plain": [
       "<Figure size 432x288 with 1 Axes>"
      ]
     },
     "metadata": {
      "needs_background": "light"
     },
     "output_type": "display_data"
    }
   ],
   "source": [
    "fig, ax = plt.subplots()\n",
    "exog_idx = 3\n",
    "fig = sm.graphics.plot_fit(resultado, exog_idx=exog_idx, ax=ax)\n",
    "ax.set_ylabel(\"Log(Salario)\")"
   ]
  },
  {
   "cell_type": "code",
   "execution_count": 11,
   "id": "fdf0eaba-c176-46cb-b52a-4aa5b8dc6430",
   "metadata": {},
   "outputs": [
    {
     "data": {
      "image/png": "[encoded data removed]",
      "text/plain": [
       "<Figure size 576x432 with 5 Axes>"
      ]
     },
     "metadata": {
      "needs_background": "light"
     },
     "output_type": "display_data"
    }
   ],
   "source": [
    "from statsmodels.graphics.regressionplots import plot_partregress_grid\n",
    "fig = plt.figure(figsize=(8, 6))\n",
    "plot_partregress_grid(resultado, fig=fig)\n",
    "plt.show()"
   ]
  },
  {
   "cell_type": "code",
   "execution_count": 13,
   "id": "03bf0931-3b78-4996-a024-971f807af089",
   "metadata": {},
   "outputs": [],
   "source": [
    "prediccion_wage = pd.DataFrame(y)\n",
    "prediccion_wage['prediccion'] = resultado.predict()\n",
    "prediccion_wage['diferencia'] = prediccion_wage['prediccion']-prediccion_wage['lwage']"
   ]
  },
  {
   "cell_type": "code",
   "execution_count": 14,
   "id": "543f9c27-1eae-429f-9b25-1d5e45b59758",
   "metadata": {},
   "outputs": [
    {
     "data": {
      "text/html": [
       "<div>\n",
       "<style scoped>\n",
       "    .dataframe tbody tr th:only-of-type {\n",
       "        vertical-align: middle;\n",
       "    }\n",
       "\n",
       "    .dataframe tbody tr th {\n",
       "        vertical-align: top;\n",
       "    }\n",
       "\n",
       "    .dataframe thead th {\n",
       "        text-align: right;\n",
       "    }\n",
       "</style>\n",
       "<table border=\"1\" class=\"dataframe\">\n",
       "  <thead>\n",
       "    <tr style=\"text-align: right;\">\n",
       "      <th></th>\n",
       "      <th>lwage</th>\n",
       "      <th>prediccion</th>\n",
       "      <th>diferencia</th>\n",
       "    </tr>\n",
       "  </thead>\n",
       "  <tbody>\n",
       "    <tr>\n",
       "      <th>0</th>\n",
       "      <td>1.131402</td>\n",
       "      <td>1.245693</td>\n",
       "      <td>0.114291</td>\n",
       "    </tr>\n",
       "    <tr>\n",
       "      <th>1</th>\n",
       "      <td>1.175573</td>\n",
       "      <td>1.584930</td>\n",
       "      <td>0.409357</td>\n",
       "    </tr>\n",
       "    <tr>\n",
       "      <th>2</th>\n",
       "      <td>1.098612</td>\n",
       "      <td>1.245693</td>\n",
       "      <td>0.147081</td>\n",
       "    </tr>\n",
       "    <tr>\n",
       "      <th>3</th>\n",
       "      <td>1.791759</td>\n",
       "      <td>1.832903</td>\n",
       "      <td>0.041144</td>\n",
       "    </tr>\n",
       "    <tr>\n",
       "      <th>4</th>\n",
       "      <td>1.667707</td>\n",
       "      <td>1.552305</td>\n",
       "      <td>-0.115402</td>\n",
       "    </tr>\n",
       "    <tr>\n",
       "      <th>...</th>\n",
       "      <td>...</td>\n",
       "      <td>...</td>\n",
       "      <td>...</td>\n",
       "    </tr>\n",
       "    <tr>\n",
       "      <th>521</th>\n",
       "      <td>2.708050</td>\n",
       "      <td>1.915542</td>\n",
       "      <td>-0.792508</td>\n",
       "    </tr>\n",
       "    <tr>\n",
       "      <th>522</th>\n",
       "      <td>0.819780</td>\n",
       "      <td>1.158690</td>\n",
       "      <td>0.338910</td>\n",
       "    </tr>\n",
       "    <tr>\n",
       "      <th>523</th>\n",
       "      <td>1.541159</td>\n",
       "      <td>2.163677</td>\n",
       "      <td>0.622518</td>\n",
       "    </tr>\n",
       "    <tr>\n",
       "      <th>524</th>\n",
       "      <td>2.447551</td>\n",
       "      <td>1.874884</td>\n",
       "      <td>-0.572666</td>\n",
       "    </tr>\n",
       "    <tr>\n",
       "      <th>525</th>\n",
       "      <td>1.252763</td>\n",
       "      <td>1.597555</td>\n",
       "      <td>0.344792</td>\n",
       "    </tr>\n",
       "  </tbody>\n",
       "</table>\n",
       "<p>526 rows × 3 columns</p>\n",
       "</div>"
      ],
      "text/plain": [
       "        lwage  prediccion  diferencia\n",
       "0    1.131402    1.245693    0.114291\n",
       "1    1.175573    1.584930    0.409357\n",
       "2    1.098612    1.245693    0.147081\n",
       "3    1.791759    1.832903    0.041144\n",
       "4    1.667707    1.552305   -0.115402\n",
       "..        ...         ...         ...\n",
       "521  2.708050    1.915542   -0.792508\n",
       "522  0.819780    1.158690    0.338910\n",
       "523  1.541159    2.163677    0.622518\n",
       "524  2.447551    1.874884   -0.572666\n",
       "525  1.252763    1.597555    0.344792\n",
       "\n",
       "[526 rows x 3 columns]"
      ]
     },
     "execution_count": 14,
     "metadata": {},
     "output_type": "execute_result"
    }
   ],
   "source": [
    "prediccion_wage"
   ]
  },
  {
   "cell_type": "code",
   "execution_count": 15,
   "id": "b5bae382-7c53-4e6f-87ca-33cf5572ba69",
   "metadata": {},
   "outputs": [
    {
     "data": {
      "image/png": "[encoded data removed]",
      "text/plain": [
       "<Figure size 432x288 with 1 Axes>"
      ]
     },
     "metadata": {
      "needs_background": "light"
     },
     "output_type": "display_data"
    }
   ],
   "source": [
    "plt.scatter(prediccion_wage['lwage'], prediccion_wage['prediccion'])\n",
    "plt.xlabel('prediccion')\n",
    "plt.ylabel('lwage')\n",
    "plt.show()"
   ]
  },
  {
   "cell_type": "code",
   "execution_count": 16,
   "id": "8e2fb356-9a62-45cb-8985-1288a35d3e7e",
   "metadata": {},
   "outputs": [],
   "source": [
    "def confusion_matrix(data, actual_values, model):\n",
    "    pred_values = model.predict(data)\n",
    "    bins=np.array([-0.634878,1.62,3.21])\n",
    "    cm=np.histogram2d(actual_values,pred_values,bins=bins)[0]\n",
    "    accuracy=(cm[0,0]+cm[1,1])/cm.sum()\n",
    "    print(f'Matriz: {cm}, Precision: {accuracy*100}%')"
   ]
  },
  {
   "cell_type": "code",
   "execution_count": 17,
   "id": "8dc36ce0-de27-47b6-85ff-102ec0c5dc14",
   "metadata": {},
   "outputs": [
    {
     "name": "stdout",
     "output_type": "stream",
     "text": [
      "Matriz: [[204.  89.]\n",
      " [ 62. 169.]], Precision: 71.18320610687023%\n"
     ]
    }
   ],
   "source": [
    "confusion_matrix(x, y, resultado)"
   ]
  },
  {
   "cell_type": "code",
   "execution_count": 18,
   "id": "73f09a6c-c072-4e48-a7de-52eb822548e3",
   "metadata": {},
   "outputs": [],
   "source": [
    "from sklearn.model_selection import train_test_split\n",
    "from sklearn.linear_model import LinearRegression\n",
    "from sklearn.preprocessing import PolynomialFeatures\n",
    "from sklearn.metrics import mean_squared_error, r2_score"
   ]
  },
  {
   "cell_type": "code",
   "execution_count": 19,
   "id": "19d01551-c926-484f-b828-2a34e9ac10c8",
   "metadata": {},
   "outputs": [],
   "source": [
    "X = wage_final[['educ','exper','tenure','married']]\n",
    "Y = wage_final['lwage']\n",
    "X_train, X_test, Y_train, Y_test = train_test_split(X, Y, test_size = 0.4, random_state=5)"
   ]
  },
  {
   "cell_type": "code",
   "execution_count": 20,
   "id": "3905843f-bd54-491c-86c7-46b9f5574312",
   "metadata": {},
   "outputs": [
    {
     "name": "stdout",
     "output_type": "stream",
     "text": [
      "Entrenamiento: MSE =0.17713877265454184\n",
      "Pruebas: MSE =0.1619057141057048\n"
     ]
    },
    {
     "data": {
      "text/html": [
       "<div>\n",
       "<style scoped>\n",
       "    .dataframe tbody tr th:only-of-type {\n",
       "        vertical-align: middle;\n",
       "    }\n",
       "\n",
       "    .dataframe tbody tr th {\n",
       "        vertical-align: top;\n",
       "    }\n",
       "\n",
       "    .dataframe thead th {\n",
       "        text-align: right;\n",
       "    }\n",
       "</style>\n",
       "<table border=\"1\" class=\"dataframe\">\n",
       "  <thead>\n",
       "    <tr style=\"text-align: right;\">\n",
       "      <th></th>\n",
       "      <th>valor_real</th>\n",
       "      <th>prediccion</th>\n",
       "      <th>diferencia</th>\n",
       "    </tr>\n",
       "  </thead>\n",
       "  <tbody>\n",
       "    <tr>\n",
       "      <th>0</th>\n",
       "      <td>1.982380</td>\n",
       "      <td>1.463807</td>\n",
       "      <td>0.518573</td>\n",
       "    </tr>\n",
       "    <tr>\n",
       "      <th>1</th>\n",
       "      <td>1.541159</td>\n",
       "      <td>2.352298</td>\n",
       "      <td>-0.811139</td>\n",
       "    </tr>\n",
       "    <tr>\n",
       "      <th>2</th>\n",
       "      <td>2.014903</td>\n",
       "      <td>1.875857</td>\n",
       "      <td>0.139046</td>\n",
       "    </tr>\n",
       "    <tr>\n",
       "      <th>3</th>\n",
       "      <td>1.467874</td>\n",
       "      <td>1.770428</td>\n",
       "      <td>-0.302554</td>\n",
       "    </tr>\n",
       "    <tr>\n",
       "      <th>4</th>\n",
       "      <td>1.871802</td>\n",
       "      <td>1.873697</td>\n",
       "      <td>-0.001895</td>\n",
       "    </tr>\n",
       "    <tr>\n",
       "      <th>5</th>\n",
       "      <td>1.386294</td>\n",
       "      <td>1.470474</td>\n",
       "      <td>-0.084179</td>\n",
       "    </tr>\n",
       "    <tr>\n",
       "      <th>6</th>\n",
       "      <td>1.791759</td>\n",
       "      <td>1.700050</td>\n",
       "      <td>0.091709</td>\n",
       "    </tr>\n",
       "    <tr>\n",
       "      <th>7</th>\n",
       "      <td>1.519513</td>\n",
       "      <td>1.528007</td>\n",
       "      <td>-0.008494</td>\n",
       "    </tr>\n",
       "    <tr>\n",
       "      <th>8</th>\n",
       "      <td>1.832581</td>\n",
       "      <td>1.901338</td>\n",
       "      <td>-0.068757</td>\n",
       "    </tr>\n",
       "    <tr>\n",
       "      <th>9</th>\n",
       "      <td>2.447551</td>\n",
       "      <td>1.824813</td>\n",
       "      <td>0.622738</td>\n",
       "    </tr>\n",
       "  </tbody>\n",
       "</table>\n",
       "</div>"
      ],
      "text/plain": [
       "   valor_real  prediccion  diferencia\n",
       "0    1.982380    1.463807    0.518573\n",
       "1    1.541159    2.352298   -0.811139\n",
       "2    2.014903    1.875857    0.139046\n",
       "3    1.467874    1.770428   -0.302554\n",
       "4    1.871802    1.873697   -0.001895\n",
       "5    1.386294    1.470474   -0.084179\n",
       "6    1.791759    1.700050    0.091709\n",
       "7    1.519513    1.528007   -0.008494\n",
       "8    1.832581    1.901338   -0.068757\n",
       "9    2.447551    1.824813    0.622738"
      ]
     },
     "execution_count": 20,
     "metadata": {},
     "output_type": "execute_result"
    }
   ],
   "source": [
    "poly_model = LinearRegression()\n",
    "poly = PolynomialFeatures(degree=2)\n",
    "\n",
    "Xpolytrain = poly.fit_transform(X_train)\n",
    "Xpolytest = poly.fit_transform(X_test)\n",
    "\n",
    "poly_model.fit(Xpolytrain, Y_train)\n",
    "y_train_predict = poly_model.predict(Xpolytrain)\n",
    "\n",
    "MSE = mean_squared_error(Y_train,y_train_predict)\n",
    "print(\"Entrenamiento: MSE =\"+str(MSE))\n",
    "\n",
    "y_test_predict = poly_model.predict(Xpolytest)\n",
    "MSE = (mean_squared_error(Y_test, y_test_predict))\n",
    "print(\"Pruebas: MSE =\"+str(MSE))\n",
    "\n",
    "df_predicciones = pd.DataFrame({'valor_real':Y_test, 'prediccion':y_test_predict, 'diferencia':Y_test-y_test_predict})\n",
    "df_predicciones = df_predicciones.reset_index(drop = True)\n",
    "\n",
    "df_predicciones.head(10)"
   ]
  },
  {
   "cell_type": "code",
   "execution_count": 21,
   "id": "8d4e0c24-26c4-4f01-aa08-09c2a46c8261",
   "metadata": {},
   "outputs": [
    {
     "data": {
      "text/plain": [
       "<matplotlib.collections.PathCollection at 0x179d16a8250>"
      ]
     },
     "execution_count": 21,
     "metadata": {},
     "output_type": "execute_result"
    },
    {
     "data": {
      "image/png": "[encoded data removed]",
      "text/plain": [
       "<Figure size 432x288 with 1 Axes>"
      ]
     },
     "metadata": {
      "needs_background": "light"
     },
     "output_type": "display_data"
    }
   ],
   "source": [
    "plt.scatter(df_predicciones['prediccion'], df_predicciones['valor_real'], c='red')"
   ]
  },
  {
   "cell_type": "code",
   "execution_count": 22,
   "id": "00bfe0b5-d269-449c-a67f-a6644e3f1f53",
   "metadata": {},
   "outputs": [
    {
     "name": "stdout",
     "output_type": "stream",
     "text": [
      "Coefficients: \n",
      " [ 0.00000000e+00 -8.48131247e-02  2.93727217e-02  5.64853479e-03\n",
      "  1.96960285e-01  7.02216731e-03 -1.32185637e-04  2.43134238e-03\n",
      " -1.72473818e-02 -5.05276686e-04 -1.30734295e-04 -3.75462042e-03\n",
      " -3.79879674e-04 -2.04813724e-03  1.96960285e-01]\n",
      "Mean squared error: 0.16\n",
      "Coefficient of determination: 0.37\n"
     ]
    }
   ],
   "source": [
    "# The coefficients\n",
    "print('Coefficients: \\n', poly_model.coef_)\n",
    "# The mean squared error\n",
    "print('Mean squared error: %.2f'\n",
    "      % mean_squared_error(Y_test, y_test_predict))\n",
    "# The coefficient of determination: 1 is perfect prediction\n",
    "print('Coefficient of determination: %.2f'\n",
    "      % r2_score(Y_test, y_test_predict))\n"
   ]
  },
  {
   "cell_type": "code",
   "execution_count": null,
   "id": "23be71a5-21da-4d03-bfbc-acbaa0fefcfe",
   "metadata": {},
   "outputs": [],
   "source": []
  }
 ],
 "metadata": {
  "kernelspec": {
   "display_name": "Python 3",
   "language": "python",
   "name": "python3"
  },
  "language_info": {
   "codemirror_mode": {
    "name": "ipython",
    "version": 3
   },
   "file_extension": ".py",
   "mimetype": "text/x-python",
   "name": "python",
   "nbconvert_exporter": "python",
   "pygments_lexer": "ipython3",
   "version": "3.8.8"
  }
 },
 "nbformat": 4,
 "nbformat_minor": 5
}
